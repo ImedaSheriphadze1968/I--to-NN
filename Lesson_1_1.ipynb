{
  "nbformat": 4,
  "nbformat_minor": 0,
  "metadata": {
    "colab": {
      "provenance": [],
      "gpuType": "T4",
      "authorship_tag": "ABX9TyMwfP0KaDLKBoWp/oJ/tig7"
    },
    "kernelspec": {
      "name": "python3",
      "display_name": "Python 3"
    },
    "language_info": {
      "name": "python"
    },
    "accelerator": "GPU"
  },
  "cells": [
    {
      "cell_type": "code",
      "execution_count": null,
      "metadata": {
        "colab": {
          "base_uri": "https://localhost:8080/"
        },
        "id": "_ubuJrLjOqx5",
        "outputId": "07039dff-69ab-444b-d319-71bbceb5779e"
      },
      "outputs": [
        {
          "output_type": "stream",
          "name": "stdout",
          "text": [
            "AND(0, 0) = 0\n",
            "AND(0, 1) = 0\n",
            "AND(1, 0) = 0\n",
            "AND(1, 1) = 1\n"
          ]
        }
      ],
      "source": [
        "# პერცეპტრონის ფუნქციის დეფინიცია\n",
        "def perceptron_and(x1, x2):\n",
        "    # წონები და ბიასი\n",
        "    w1, w2 = 1, 1\n",
        "    bias = -1.5\n",
        "\n",
        "    # შედეგის გამოთვლა\n",
        "    z = w1 * x1 + w2 * x2 + bias\n",
        "\n",
        "    # აქტივაციის ფუნქცია (საფუებელი)\n",
        "    if z > 0:\n",
        "        return 1\n",
        "    else:\n",
        "        return 0\n",
        "\n",
        "# შემავალი მონაცემების შემოწმება\n",
        "inputs = [(0, 0), (0, 1), (1, 0), (1, 1)]\n",
        "results = []\n",
        "\n",
        "for x1, x2 in inputs:\n",
        "    result = perceptron_and(x1, x2)\n",
        "    results.append(f\"AND({x1}, {x2}) = {result}\")\n",
        "\n",
        "# შედეგის დაბეჭდვა\n",
        "for res in results:\n",
        "    print(res)\n"
      ]
    }
  ]
}