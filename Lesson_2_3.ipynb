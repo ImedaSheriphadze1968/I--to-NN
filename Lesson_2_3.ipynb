{
  "nbformat": 4,
  "nbformat_minor": 0,
  "metadata": {
    "colab": {
      "provenance": [],
      "authorship_tag": "ABX9TyO1MoB8hC9MuMcYrZ/e3kE3"
    },
    "kernelspec": {
      "name": "python3",
      "display_name": "Python 3"
    },
    "language_info": {
      "name": "python"
    }
  },
  "cells": [
    {
      "cell_type": "code",
      "execution_count": null,
      "metadata": {
        "colab": {
          "base_uri": "https://localhost:8080/"
        },
        "id": "AHBSb6WiVPUj",
        "outputId": "84fef193-7189-4c8a-ea3b-f62d2d8de2ad"
      },
      "outputs": [
        {
          "output_type": "stream",
          "name": "stdout",
          "text": [
            "1 1\n",
            "0 0\n"
          ]
        }
      ],
      "source": [
        "import numpy as np\n",
        "import matplotlib.pyplot as plt\n",
        "\n",
        "def act(x):\n",
        "    return 0 if x <= 0 else 1\n",
        "\n",
        "def go(C):\n",
        "    x = np.array([C[0], C[1], 1])\n",
        "    w1 = [1, 1, -1.5]\n",
        "    w2 = [1, 1, -0.5]\n",
        "    w_hidden = np.array([w1, w2])\n",
        "    w_out = np.array([-1, 1, -0.5])\n",
        "\n",
        "    sum = np.dot(w_hidden, x)\n",
        "    out = [act(x) for x in sum]\n",
        "    out.append(1)\n",
        "    out = np.array(out)\n",
        "\n",
        "    sum = np.dot(w_out, out)\n",
        "    y = act(sum)\n",
        "    return y\n",
        "\n",
        "C1 = [(1,0), (0,1)]\n",
        "C2 = [(0,0), (1,1)]\n",
        "import numpy as np\n",
        "import matplotlib.pyplot as plt\n",
        "\n",
        "def act(x):\n",
        "    return 0 if x <= 0 else 1\n",
        "\n",
        "def go(C):\n",
        "    x = np.array([C[0], C[1], 1])\n",
        "    w1 = [1, 1, -1.5]\n",
        "    w2 = [1, 1, -0.5]\n",
        "    w_hidden = np.array([w1, w2])\n",
        "    w_out = np.array([-1, 1, -0.5])\n",
        "\n",
        "    sum = np.dot(w_hidden, x)\n",
        "    out = [act(x) for x in sum]\n",
        "    out.append(1)\n",
        "    out = np.array(out)\n",
        "\n",
        "    sum = np.dot(w_out, out)\n",
        "    y = act(sum)\n",
        "    return y\n",
        "\n",
        "C1 = [(1,0), (0,1)]\n",
        "C2 = [(0,0), (1,1)]\n",
        "\n",
        "print( go(C1[0]), go(C1[1]) )\n",
        "print( go(C2[0]), go(C2[1]) )"
      ]
    }
  ]
}