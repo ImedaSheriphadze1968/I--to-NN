{
  "nbformat": 4,
  "nbformat_minor": 0,
  "metadata": {
    "colab": {
      "provenance": [],
      "gpuType": "T4",
      "authorship_tag": "ABX9TyM/nyjKDXlWRI2ujoOHydTX"
    },
    "kernelspec": {
      "name": "python3",
      "display_name": "Python 3"
    },
    "language_info": {
      "name": "python"
    },
    "accelerator": "GPU"
  },
  "cells": [
    {
      "cell_type": "code",
      "execution_count": null,
      "metadata": {
        "colab": {
          "base_uri": "https://localhost:8080/"
        },
        "id": "WvzT5muUSX5q",
        "outputId": "3a926b84-d96d-4a96-ccd6-dc535769931c"
      },
      "outputs": [
        {
          "output_type": "stream",
          "name": "stdout",
          "text": [
            "იდეალური დღე პიკნიკისთვის: კი\n"
          ]
        }
      ],
      "source": [
        "import numpy as np\n",
        "\n",
        "def activation_function(x):\n",
        "    if x >= 0:\n",
        "        return 1\n",
        "    else:\n",
        "        return 0\n",
        "\n",
        "def perceptron(inputs, weights, bias):\n",
        "    model = np.dot(inputs, weights) + bias\n",
        "    return activation_function(model)\n",
        "\n",
        "# პარამეტრები\n",
        "weights = np.array([0.5, 0.5, -0.4])  # ტემპერატურას და მზიანი დღის წონები, ქარისთვის ნეგატიური\n",
        "bias = -0.4  # ბიასი\n",
        "\n",
        "# შემავალი მონაცემები\n",
        "# მაგალითად: ტემპერატურა 20°C, მზიანი დღე, საშუალო ქარი\n",
        "inputs = np.array([20, 1, 0])\n",
        "\n",
        "# შედეგის გამოთვლა\n",
        "ideal_picnic_day = perceptron(inputs, weights, bias)\n",
        "print(\"იდეალური დღე პიკნიკისთვის:\", \"კი\" if ideal_picnic_day == 1 else \"არა\")\n"
      ]
    }
  ]
}